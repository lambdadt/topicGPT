{
 "cells": [
  {
   "cell_type": "code",
   "execution_count": 13,
   "metadata": {},
   "outputs": [],
   "source": [
    "import os\n",
    "import sys\n",
    "from pathlib import Path\n",
    "import json\n",
    "import re\n",
    "from collections import Counter"
   ]
  },
  {
   "cell_type": "code",
   "execution_count": 4,
   "metadata": {},
   "outputs": [],
   "source": [
    "import pandas as pd\n",
    "import numpy as np\n",
    "import matplotlib.pyplot as plt\n",
    "import yaml"
   ]
  },
  {
   "cell_type": "code",
   "execution_count": 5,
   "metadata": {},
   "outputs": [],
   "source": [
    "from tqdm.notebook import tqdm"
   ]
  },
  {
   "cell_type": "code",
   "execution_count": 6,
   "metadata": {},
   "outputs": [
    {
     "name": "stdout",
     "output_type": "stream",
     "text": [
      "topic_names=['Computer Science', 'Economics', 'Electrical Engineering and Systems Science', 'Mathematics', 'Physics', 'Quantitative Biology', 'Quantitative Finance', 'Statistics']\n"
     ]
    }
   ],
   "source": [
    "with open(\"data/misc/arxiv_topics.yaml\") as f:\n",
    "    topics_conf = yaml.safe_load(f)\n",
    "topic_names = []\n",
    "for d in topics_conf['topics']:\n",
    "    topic_names.append(d['name'])\n",
    "print(f\"{topic_names=}\")"
   ]
  },
  {
   "cell_type": "code",
   "execution_count": 7,
   "metadata": {},
   "outputs": [
    {
     "data": {
      "text/plain": [
       "{'id': '111-HR-3692',\n",
       " 'text': 'National Forest Roadless Area Conservation Act - Identifies roadless areas within the National Forest System set forth in specified maps as National Forest Inventoried Roadless Areas, and directs the Secretary of Agriculture to manage such Areas to maintain their roadless character. Authorizes the Forest Service to modify such maps for the sole purpose of improving their accuracy or inclusiveness. Requires any substantial modification of those maps to be made through the national forest management planning process and documented in an environmental impact statement.',\n",
       " 'label': 'Public Lands',\n",
       " 'prompted_docs': 'National Forest Roadless Area Conservation Act - Identifies roadless areas within the National Forest System set forth in specified maps as National Forest Inventoried Roadless Areas, and directs the Secretary of Agriculture to manage such Areas to maintain their roadless character. Authorizes the Forest Service to modify such maps for the sole purpose of improving their accuracy or inclusiveness. Requires any substantial modification of those maps to be made through the national forest management planning process and documented in an environmental impact statement.',\n",
       " 'responses': '[1] Environment: The document discusses the management and conservation of roadless areas within the National Forest System, which directly relates to environmental conservation efforts. (\"...directs the Secretary of Agriculture to manage such Areas to maintain their roadless character.\")'}"
      ]
     },
     "execution_count": 7,
     "metadata": {},
     "output_type": "execute_result"
    }
   ],
   "source": [
    "sample_assigs = []\n",
    "with open(\"data/output/sample/assignment.jsonl\", encoding='utf-8') as f:\n",
    "    for line in f.readlines():\n",
    "        if line.strip():\n",
    "            sample_assigs.append(json.loads(line))\n",
    "sample_assigs[0]"
   ]
  },
  {
   "cell_type": "code",
   "execution_count": 8,
   "metadata": {},
   "outputs": [],
   "source": [
    "assig_outputs_all = {\n",
    "    'vlm_firstpage': {\n",
    "        'path': \"output/topic_assignments/vlm_firstpage/all_results.json\",\n",
    "    },\n",
    "    'vlm_randpage': {\n",
    "        'path': \"output/topic_assignments/vlm_randpage/all_results.json\",\n",
    "    },\n",
    "    'vlm_randpage2': {\n",
    "        'path': \"output/topic_assignments/vlm_2randompage/all_results.json\",\n",
    "    },\n",
    "    \n",
    "    'llm_firstpage': {\n",
    "        'path': \"output/topic_assignments/llm_firstpage/all_results.json\",\n",
    "    },\n",
    "    'llm_randpage': {\n",
    "        'path': \"output/topic_assignments/llm_randompage/all_results.json\",\n",
    "    },\n",
    "    'llm_randpage2': {\n",
    "        'path': \"output/topic_assignments/llm_2randompage/all_results.json\",\n",
    "    },\n",
    "}"
   ]
  },
  {
   "cell_type": "code",
   "execution_count": 9,
   "metadata": {},
   "outputs": [],
   "source": [
    "def identify_matched_topics_from_response(response: str, topic_names: list):\n",
    "    if \"Final Answer\" in response:\n",
    "        response = response[response.index(\"Final Answer\")+len(\"Final Answer\"):]\n",
    "    output_pattern = r\"\\[(?:\\d+)\\] ([^:]+): (?:.+)\"\n",
    "    output_topics = re.findall(output_pattern, response)\n",
    "    output_topics = [t for t in output_topics if t in topic_names]\n",
    "    if len(output_topics) == 0:\n",
    "        found_topics = []\n",
    "        for topic_name in topic_names:\n",
    "            if topic_name in response:\n",
    "                found_topics.append((response.index(topic_name), topic_name))\n",
    "        for _, topic_name in sorted(found_topics):\n",
    "            output_topics.append(topic_name)\n",
    "    return output_topics"
   ]
  },
  {
   "cell_type": "code",
   "execution_count": null,
   "metadata": {},
   "outputs": [],
   "source": [
    "assig_json_path = assig_outputs_all['vlm_firstpage']['path']\n",
    "with open(assig_json_path, encoding='utf-8') as f:\n",
    "    assig_datas = json.load(f)\n",
    "\n",
    "true_topics_all = []\n",
    "for i, d in enumerate(tqdm(assig_datas)):\n",
    "    true_topics = json.loads(d['topics'])\n",
    "    pred_topics = identify_matched_topics_from_response(d['response'], topic_names=topic_names) #d['matched_topics']\n",
    "    true_topics = sorted(set(true_topics))\n",
    "    pred_topics = sorted(set(pred_topics))\n",
    "    true_topics_all.extend(true_topics)\n",
    "    if i < 2:\n",
    "        print(f\"True: {true_topics}\")\n",
    "        print(f\"Pred: {pred_topics}\")\n",
    "        print(f\"LLM response: {d['response']}\")"
   ]
  },
  {
   "cell_type": "code",
   "execution_count": 15,
   "metadata": {},
   "outputs": [
    {
     "data": {
      "text/plain": [
       "([<matplotlib.patches.Wedge at 0x15543bc79a10>,\n",
       "  <matplotlib.patches.Wedge at 0x15543c56b1d0>,\n",
       "  <matplotlib.patches.Wedge at 0x15543d1f7790>,\n",
       "  <matplotlib.patches.Wedge at 0x15543c568f10>,\n",
       "  <matplotlib.patches.Wedge at 0x15543c45cad0>,\n",
       "  <matplotlib.patches.Wedge at 0x15543c54ce90>,\n",
       "  <matplotlib.patches.Wedge at 0x15543c530610>,\n",
       "  <matplotlib.patches.Wedge at 0x15543c532350>],\n",
       " [Text(-0.7165097133490093, 0.834633950110179, 'Mathematics'),\n",
       "  Text(-0.46007668745945446, -0.9991643716908323, 'Physics'),\n",
       "  Text(1.096755581148524, 0.08442271743768925, 'Computer Science'),\n",
       "  Text(0.5649828854197451, 0.943819018235371, 'Statistics'),\n",
       "  Text(0.3769730720263265, 1.0333882634165312, 'Quantitative Biology'),\n",
       "  Text(0.34641018192816136, 1.0440306441175462, 'Quantitative Finance'),\n",
       "  Text(0.17545131317525933, 1.0859175091622186, 'Electrical Engineering and Systems Science'),\n",
       "  Text(0.003596090906322279, 1.0999941218616551, 'Economics')],\n",
       " [Text(-0.39082348000855044, 0.45525488187827945, '22.6%'),\n",
       "  Text(-0.25095092043242967, -0.5449987481949994, '41.1%'),\n",
       "  Text(0.5982303169901039, 0.046048754966012316, '25.1%'),\n",
       "  Text(0.3081724829562245, 0.5148103735829296, '5.3%'),\n",
       "  Text(0.20562167565072353, 0.5636663254999261, '0.7%'),\n",
       "  Text(0.18895100832445164, 0.5694712604277524, '0.2%'),\n",
       "  Text(0.09570071627741417, 0.59231864136121, '4.9%'),\n",
       "  Text(0.001961504130721243, 0.5999967937427209, '0.1%')])"
      ]
     },
     "execution_count": 15,
     "metadata": {},
     "output_type": "execute_result"
    },
    {
     "data": {
      "image/png": "[encoded data removed]",
      "text/plain": [
       "<Figure size 640x480 with 1 Axes>"
      ]
     },
     "metadata": {},
     "output_type": "display_data"
    }
   ],
   "source": [
    "topics_counter = Counter(true_topics_all)\n",
    "plt.pie(topics_counter.values(),\n",
    "        labels=topics_counter.keys(), autopct='%1.1f%%', startangle=90)"
   ]
  },
  {
   "cell_type": "code",
   "execution_count": 10,
   "metadata": {},
   "outputs": [
    {
     "name": "stdout",
     "output_type": "stream",
     "text": [
      "INFO 04-17 17:18:43 [__init__.py:243] No platform detected, vLLM is running on UnspecifiedPlatform\n"
     ]
    }
   ],
   "source": [
    "from topicgpt_python.utils import calculate_metrics"
   ]
  },
  {
   "cell_type": "code",
   "execution_count": 12,
   "metadata": {},
   "outputs": [
    {
     "name": "stdout",
     "output_type": "stream",
     "text": [
      "Model 1/6: vlm_firstpage\n"
     ]
    },
    {
     "data": {
      "application/vnd.jupyter.widget-view+json": {
       "model_id": "8fcaf1f3da9648b9b183bbec301cd2ec",
       "version_major": 2,
       "version_minor": 0
      },
      "text/plain": [
       "  0%|          | 0/1495 [00:00<?, ?it/s]"
      ]
     },
     "metadata": {},
     "output_type": "display_data"
    },
    {
     "name": "stdout",
     "output_type": "stream",
     "text": [
      "Model 2/6: vlm_randpage\n"
     ]
    },
    {
     "name": "stderr",
     "output_type": "stream",
     "text": [
      "/storage/ice1/4/2/mshin90/hum/topicGPT/topicgpt_python/utils.py:699: RuntimeWarning: invalid value encountered in divide\n",
      "  f1 = 2 * (precision * recall) / (precision + recall)\n"
     ]
    },
    {
     "data": {
      "application/vnd.jupyter.widget-view+json": {
       "model_id": "cf54e0318ed5431f8f5fdf2e97ab935e",
       "version_major": 2,
       "version_minor": 0
      },
      "text/plain": [
       "  0%|          | 0/1495 [00:00<?, ?it/s]"
      ]
     },
     "metadata": {},
     "output_type": "display_data"
    },
    {
     "name": "stderr",
     "output_type": "stream",
     "text": [
      "/storage/ice1/4/2/mshin90/hum/topicGPT/topicgpt_python/utils.py:699: RuntimeWarning: invalid value encountered in divide\n",
      "  f1 = 2 * (precision * recall) / (precision + recall)\n"
     ]
    },
    {
     "name": "stdout",
     "output_type": "stream",
     "text": [
      "Model 3/6: vlm_randpage2\n"
     ]
    },
    {
     "data": {
      "application/vnd.jupyter.widget-view+json": {
       "model_id": "890d439550224ff4840228ef7cf2a313",
       "version_major": 2,
       "version_minor": 0
      },
      "text/plain": [
       "  0%|          | 0/1495 [00:00<?, ?it/s]"
      ]
     },
     "metadata": {},
     "output_type": "display_data"
    },
    {
     "name": "stderr",
     "output_type": "stream",
     "text": [
      "/storage/ice1/4/2/mshin90/hum/topicGPT/topicgpt_python/utils.py:699: RuntimeWarning: invalid value encountered in divide\n",
      "  f1 = 2 * (precision * recall) / (precision + recall)\n"
     ]
    },
    {
     "name": "stdout",
     "output_type": "stream",
     "text": [
      "Model 4/6: llm_firstpage\n"
     ]
    },
    {
     "data": {
      "application/vnd.jupyter.widget-view+json": {
       "model_id": "d455e2b2f29a41eca061e68124d0b9f1",
       "version_major": 2,
       "version_minor": 0
      },
      "text/plain": [
       "  0%|          | 0/1495 [00:00<?, ?it/s]"
      ]
     },
     "metadata": {},
     "output_type": "display_data"
    },
    {
     "name": "stderr",
     "output_type": "stream",
     "text": [
      "/storage/ice1/4/2/mshin90/hum/topicGPT/topicgpt_python/utils.py:699: RuntimeWarning: invalid value encountered in divide\n",
      "  f1 = 2 * (precision * recall) / (precision + recall)\n"
     ]
    },
    {
     "name": "stdout",
     "output_type": "stream",
     "text": [
      "Model 5/6: llm_randpage\n"
     ]
    },
    {
     "data": {
      "application/vnd.jupyter.widget-view+json": {
       "model_id": "27c960d681e547ea8e9fae82e4a7df90",
       "version_major": 2,
       "version_minor": 0
      },
      "text/plain": [
       "  0%|          | 0/1495 [00:00<?, ?it/s]"
      ]
     },
     "metadata": {},
     "output_type": "display_data"
    },
    {
     "name": "stderr",
     "output_type": "stream",
     "text": [
      "/storage/ice1/4/2/mshin90/hum/topicGPT/topicgpt_python/utils.py:699: RuntimeWarning: invalid value encountered in divide\n",
      "  f1 = 2 * (precision * recall) / (precision + recall)\n"
     ]
    },
    {
     "name": "stdout",
     "output_type": "stream",
     "text": [
      "Model 6/6: llm_randpage2\n"
     ]
    },
    {
     "data": {
      "application/vnd.jupyter.widget-view+json": {
       "model_id": "85a2a64948ee4f9694c92011a2a3126c",
       "version_major": 2,
       "version_minor": 0
      },
      "text/plain": [
       "  0%|          | 0/1495 [00:00<?, ?it/s]"
      ]
     },
     "metadata": {},
     "output_type": "display_data"
    },
    {
     "name": "stderr",
     "output_type": "stream",
     "text": [
      "/storage/ice1/4/2/mshin90/hum/topicGPT/topicgpt_python/utils.py:699: RuntimeWarning: invalid value encountered in divide\n",
      "  f1 = 2 * (precision * recall) / (precision + recall)\n"
     ]
    },
    {
     "data": {
      "text/html": [
       "<div>\n",
       "<style scoped>\n",
       "    .dataframe tbody tr th:only-of-type {\n",
       "        vertical-align: middle;\n",
       "    }\n",
       "\n",
       "    .dataframe tbody tr th {\n",
       "        vertical-align: top;\n",
       "    }\n",
       "\n",
       "    .dataframe thead th {\n",
       "        text-align: right;\n",
       "    }\n",
       "</style>\n",
       "<table border=\"1\" class=\"dataframe\">\n",
       "  <thead>\n",
       "    <tr style=\"text-align: right;\">\n",
       "      <th></th>\n",
       "      <th>harmonic_purity</th>\n",
       "      <th>ari</th>\n",
       "      <th>mis</th>\n",
       "    </tr>\n",
       "    <tr>\n",
       "      <th>name</th>\n",
       "      <th></th>\n",
       "      <th></th>\n",
       "      <th></th>\n",
       "    </tr>\n",
       "  </thead>\n",
       "  <tbody>\n",
       "    <tr>\n",
       "      <th>vlm_firstpage</th>\n",
       "      <td>0.473648</td>\n",
       "      <td>0.011540</td>\n",
       "      <td>0.086902</td>\n",
       "    </tr>\n",
       "    <tr>\n",
       "      <th>vlm_randpage</th>\n",
       "      <td>0.481143</td>\n",
       "      <td>-0.015996</td>\n",
       "      <td>0.040951</td>\n",
       "    </tr>\n",
       "    <tr>\n",
       "      <th>vlm_randpage2</th>\n",
       "      <td>0.475503</td>\n",
       "      <td>0.024531</td>\n",
       "      <td>0.072662</td>\n",
       "    </tr>\n",
       "    <tr>\n",
       "      <th>llm_firstpage</th>\n",
       "      <td>0.636141</td>\n",
       "      <td>0.271820</td>\n",
       "      <td>0.324136</td>\n",
       "    </tr>\n",
       "    <tr>\n",
       "      <th>llm_randpage</th>\n",
       "      <td>0.517861</td>\n",
       "      <td>0.115412</td>\n",
       "      <td>0.185451</td>\n",
       "    </tr>\n",
       "    <tr>\n",
       "      <th>llm_randpage2</th>\n",
       "      <td>0.474751</td>\n",
       "      <td>0.064664</td>\n",
       "      <td>0.123571</td>\n",
       "    </tr>\n",
       "  </tbody>\n",
       "</table>\n",
       "</div>"
      ],
      "text/plain": [
       "               harmonic_purity       ari       mis\n",
       "name                                              \n",
       "vlm_firstpage         0.473648  0.011540  0.086902\n",
       "vlm_randpage          0.481143 -0.015996  0.040951\n",
       "vlm_randpage2         0.475503  0.024531  0.072662\n",
       "llm_firstpage         0.636141  0.271820  0.324136\n",
       "llm_randpage          0.517861  0.115412  0.185451\n",
       "llm_randpage2         0.474751  0.064664  0.123571"
      ]
     },
     "execution_count": 12,
     "metadata": {},
     "output_type": "execute_result"
    }
   ],
   "source": [
    "results_allmodels = []\n",
    "\n",
    "pick1topic_sorted_alphabetically = True\n",
    "for imodel, (model_name, assig_output_d) in enumerate(assig_outputs_all.items()):\n",
    "    print(\"Model {}/{}: {}\".format(imodel+1, len(assig_outputs_all), model_name))\n",
    "    with open(assig_output_d['path'], encoding='utf-8') as f:\n",
    "        assig_datas = json.load(f)\n",
    "    curmodel_assig_datas_fordf = []\n",
    "    for idoc, assig_d in enumerate(tqdm(assig_datas)):\n",
    "        true_topics = json.loads(assig_d['topics'])\n",
    "        pred_topics = identify_matched_topics_from_response(assig_d['response'], topic_names=topic_names)\n",
    "        if pick1topic_sorted_alphabetically:\n",
    "            true_topics = sorted(set(true_topics))\n",
    "            pred_topics = sorted(set(pred_topics))\n",
    "        curmodel_assig_datas_fordf.append({\n",
    "            'gt': true_topics[0],\n",
    "            'pred': pred_topics[0] if len(pred_topics) > 0 else \"XXXX\",\n",
    "        })\n",
    "    cur_model_assigdf = pd.DataFrame(curmodel_assig_datas_fordf)\n",
    "    harmonic_purity, ari, mis = calculate_metrics('gt', 'pred', cur_model_assigdf)\n",
    "    results_allmodels.append({\n",
    "        'name': model_name,\n",
    "        'harmonic_purity': harmonic_purity,\n",
    "        'ari': ari,\n",
    "        'mis': mis,\n",
    "        })\n",
    "results_allmodels_df = pd.DataFrame(results_allmodels).set_index('name')\n",
    "results_allmodels_df"
   ]
  },
  {
   "cell_type": "code",
   "execution_count": null,
   "metadata": {},
   "outputs": [],
   "source": []
  },
  {
   "cell_type": "code",
   "execution_count": null,
   "metadata": {},
   "outputs": [],
   "source": []
  }
 ],
 "metadata": {
  "kernelspec": {
   "display_name": "topicgpt",
   "language": "python",
   "name": "python3"
  },
  "language_info": {
   "codemirror_mode": {
    "name": "ipython",
    "version": 3
   },
   "file_extension": ".py",
   "mimetype": "text/x-python",
   "name": "python",
   "nbconvert_exporter": "python",
   "pygments_lexer": "ipython3",
   "version": "3.11.11"
  },
  "orig_nbformat": 4
 },
 "nbformat": 4,
 "nbformat_minor": 2
}
